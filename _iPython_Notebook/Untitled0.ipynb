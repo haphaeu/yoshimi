{
 "metadata": {
  "name": "",
  "signature": "sha256:78f5ed7021f8e17abdf770a9afdf133c63b570912acb2d92ccf3328a91f158a9"
 },
 "nbformat": 3,
 "nbformat_minor": 0,
 "worksheets": []
}